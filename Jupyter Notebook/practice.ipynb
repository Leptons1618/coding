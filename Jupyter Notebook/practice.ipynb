{
 "cells": [
  {
   "cell_type": "code",
   "execution_count": null,
   "metadata": {},
   "outputs": [],
   "source": []
  }
 ],
 "metadata": {
  "kernelspec": {
   "display_name": "Python 3.10.2 64-bit (system)",
   "language": "python",
   "name": "python3"
  },
  "language_info": {
   "name": "python",
   "version": "3.10.2"
  },
  "orig_nbformat": 4,
  "vscode": {
   "interpreter": {
    "hash": "6fb996f9db7db23e4f714c035d08cc8b5f45c750693f36fb368a56f4d1be34c1"
   }
  }
 },
 "nbformat": 4,
 "nbformat_minor": 2
}
