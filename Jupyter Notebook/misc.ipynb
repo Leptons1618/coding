{
 "cells": [
  {
   "cell_type": "code",
   "execution_count": 50,
   "metadata": {},
   "outputs": [
    {
     "name": "stdout",
     "output_type": "stream",
     "text": [
      "Don't \"panic\"!\n",
      "b'Don\\'t \"panic\"!'\n",
      "Don't \"panic\"!\n",
      "don't \"panic\"!\n",
      "False\n",
      "Don't \"panic\"!\n",
      "Don'T \"Panic\"!\n",
      "dON'T \"PANIC\"!\n",
      "don't \"panic\"!\n",
      "******************Don't \"panic\"!******************\n",
      "Don't \"panic\"!------------------------------------\n",
      "000000000000000000000000000000000000Don't \"panic\"!\n",
      "1\n",
      "1\n",
      "1\n",
      "True\n",
      "False\n",
      "Do \"panic\"!\n",
      "'t \"panic\"!\n",
      "14\n"
     ]
    }
   ],
   "source": [
    "# String is a sequence of characters \n",
    "# String is immutable\n",
    "# String is not a data type\n",
    "\n",
    "phrase = \"Don't \\\"panic\\\"!\"\n",
    "print(phrase) # \"Don't \"\"panic\"\"!\" (double quotes) \n",
    "print(phrase.encode('utf-8')) # b\"Don't \\\"panic\\\"!\" (bytes)\n",
    "print(phrase.encode('utf-8').decode('utf-8')) # \"Don't \\\"panic\\\"!\" (but it's not a valid Python string)\n",
    "print(phrase.lower()) # \"don't \"\"panic\"\"!\" (lowercase)\n",
    "# print(phrase.upper()) # \"DON'T \"\"PANIC\"\"!\" (note: double quotes are not part of the string)\n",
    "# print(phrase.isupper()) # True or False (if all characters are uppercase)\n",
    "# print(phrase.isalpha()) # True or False (if all characters are alphabetic)\n",
    "# print(phrase.isalnum()) # True or False (if all characters are alphanumeric)\n",
    "print(phrase.isdigit()) # True or False (if all characters are digits)\n",
    "print(phrase.capitalize()) # \"Don't \"\"panic\"\"!\" (first letter is capitalized)\n",
    "print(phrase.title()) # \"Don't \"\"Panic\"\"!\" (first letter of each word is capitalized)\n",
    "print(phrase.swapcase()) # \"DON'T \"\"PANIC\"\"!\" (all uppercase characters are lowercase and vice versa)\n",
    "print(phrase.casefold()) # \"don't \"\"panic\"\"!\" (case-insensitive)\n",
    "print(phrase.center(50, '*')) # \"*********Don't \\\"panic\\\"!*********\" (centered)\n",
    "print(phrase.ljust(50, '-')) # \"Don't \\\"panic\\\"!------------------\" (left-justified)\n",
    "# print(phrase.rjust(50, '-')) # \"------------------Don't \\\"panic\\\"!\" (right-justified)\n",
    "print(phrase.zfill(50)) # \"0000000000000000Don't \\\"panic\\\"!\" (zero-padded)\n",
    "\n",
    "print(phrase.count('on')) # count the number of 'on' in the string\n",
    "# print(phrase.count('on', 0, len(phrase))) # from 0 to len(phrase) \n",
    "print(phrase.find('on')) # index of first occurrence of 'on' in the string (return -1 if not found)\n",
    "# print(phrase.rfind('on')) # index of last occurrence of 'on' in the string (return -1 if not found)\n",
    "print(phrase.index('on')) # index of first occurrence of 'on' in the string (raise ValueError if not found)\n",
    "# print(phrase.rindex('on')) # index of last occurrence of 'on' in the string (raise ValueError if not found)\n",
    "print(phrase.startswith('Don')) # True or False (if the string starts with 'Don')\n",
    "print(phrase.endswith('on')) # True or False (if the string ends with 'on')\n",
    "print(phrase.replace(\"Don't\", 'Do')) # \"Don't \\\"off\\\"!\" (replace 'on' with 'off')\n",
    "print(phrase.strip(\"Don\")) # \"t \\\"panic\\\"!\" (strip 'Don' from the beginning and end)\n",
    "# print(phrase.strip('\"')) # \"Don't panic!\" (removes leading and trailing quotes)\n",
    "# print(phrase.strip('\"').strip('!')) # \"Don't panic\" (removes leading and trailing quotes and exclamation mark)\n",
    "print(len(phrase)) # 14 (length) "
   ]
  },
  {
   "cell_type": "code",
   "execution_count": 49,
   "metadata": {},
   "outputs": [
    {
     "name": "stdout",
     "output_type": "stream",
     "text": [
      "5\n",
      "4\n",
      "3.7\n",
      "0.0\n",
      "8\n",
      "5\n",
      "1\n",
      "15\n",
      "3.0\n",
      "120\n",
      "6\n",
      "36\n",
      "3\n",
      "4\n",
      "3.141592653589793\n",
      "2.718281828459045\n",
      "1.0\n",
      "1.5707963267948966\n",
      "5.0\n",
      "180.0\n",
      "3.141592653589793\n",
      "11.548739357257746\n",
      "0.8813735870195429\n",
      "----------------------------------------------------------------------------------------------------\n"
     ]
    }
   ],
   "source": [
    "# Math functions (built-in) \n",
    "print(abs(-5)) # 5 (absolute value)\n",
    "print(round(3.7)) # 4 (round to the nearest integer)\n",
    "print(round(3.7, 1)) # 3.7 (round to the nearest 1 decimal place)\n",
    "print(round(3.7, -1)) # 4.0 (round to the nearest 10 decimal place)\n",
    "print(pow(2, 3)) # 8 (2 to the power of 3)\n",
    "# print(2 ** 3) # 8 (2 to the power of 3)\n",
    "print(max(1, 2, 3, 4, 5)) # 5 (maximum of 1, 2, 3, 4, 5)\n",
    "print(min(1, 2, 3, 4, 5)) # 1 (minimum of 1, 2, 3, 4, 5)\n",
    "print(sum([1, 2, 3, 4, 5])) # 15 (sum of 1, 2, 3, 4, 5)\n",
    "\n",
    "\n",
    "# Math functions (from math module)\n",
    "import math\n",
    "print(math.sqrt(9)) # 3 (square root of 9)\n",
    "print(math.factorial(5)) # 120 (factorial of 5)\n",
    "print(math.gcd(12, 18)) # 6 (greatest common divisor of 12 and 18)\n",
    "print(math.lcm(12, 18)) # 36 (least common multiple of 12 and 18)\n",
    "print(math.floor(3.7)) # 3 (round down to the nearest integer)\n",
    "print(math.ceil(3.7)) # 4 (round up to the nearest integer)\n",
    "\n",
    "print(math.pi) # 3.141592653589793 (pi)\n",
    "print(math.e) # 2.718281828459045 (e)\n",
    "print(math.sin(math.pi/2)) # 1.0 (sine of pi/2)\n",
    "# print(math.cos(math.pi/2)) # -1.0 (cosine of pi/2)\n",
    "# print(math.tan(math.pi/2)) # 0.0 (tangent of pi/2)\n",
    "print(math.asin(1)) # 1.5707963267948966 (arcsine of 1)\n",
    "# print(math.acos(1)) # 0.0 (arccosine of 1)\n",
    "# print(math.atan(1)) # 1.5707963267948966 (arctangent of 1)\n",
    "# print(math.atan2(1, 1)) # 0.7853981633974483 (arctangent of 1/1)\n",
    "print(math.hypot(3, 4)) # 5.0 (hypotenuse of 3 and 4)\n",
    "print(math.degrees(math.pi)) # 180.0 (degrees of pi)\n",
    "print(math.radians(180)) # 3.141592653589793 (radians of 180)\n",
    "print(math.sinh(math.pi)) # 1.1752011936438014 (hyperbolic sine of pi)\n",
    "# print(math.cosh(math.pi)) # 1.5430806348152437 (hyperbolic cosine of pi)\n",
    "# print(math.tanh(math.pi)) # 0.9999999999999999 (hyperbolic tangent of pi)\n",
    "print(math.asinh(1)) # 0.881373587019543 (hyperbolic arcsine of 1)\n",
    "# print(math.acosh(1)) # 0.0 (hyperbolic arccosine of 1)\n",
    "print(\"-\" * 100)"
   ]
  },
  {
   "cell_type": "code",
   "execution_count": 19,
   "metadata": {},
   "outputs": [
    {
     "name": "stdout",
     "output_type": "stream",
     "text": [
      "[0, 1, 2, 3, 4, 5, 6, 7, 8, 9]\n",
      "[5, 6, 7, 8, 9]\n",
      "[5, 7, 9]\n",
      "[10, 8, 6]\n",
      "0\n",
      "9\n",
      "3\n",
      "1\n",
      "[0, 1, 2, 3, 4, 5, 6, 7, 8, 9, 10]\n",
      "[0, 1, 'inserted', 2, 3, 4, 5, 6, 7, 8, 9, 10]\n",
      "[0, 1, 'inserted', 2, 4, 5, 6, 7, 8, 9, 10]\n",
      "[0, 1, 'inserted', 2, 4, 5, 6, 7, 8, 9]\n",
      "[]\n",
      "[9, 8, 7, 6, 5, 4, 3, 2, 1, 0]\n",
      "[1, 2]\n",
      "[1, 2, 3, 4, 5, 6, 7, 8, 9]\n",
      "[0, 1, 2]\n",
      "[0, 2, 4, 6, 8]\n",
      "[9, 8, 7, 6, 5, 4, 3, 2, 1, 0]\n",
      "[9, 7, 5, 3, 1]\n",
      "0 1 2 3 4 5 6 7 8 9 \n",
      "[0, 1, 2, 3, 4, 5, 6, 7, 8, 9]\n",
      "[0, 1, 2, 3, 4, 5, 6, 7, 8, 9, 10, 11, 12]\n",
      "[0, 1, 2, 3, 4, 5, 6, 7, 8, 9, 13, 14, 15]\n",
      "True\n",
      "[0, 1, 2, 3, 4, 5, 6, 7, 8, 9]\n",
      "[9, 8, 7, 6, 5, 4, 3, 2, 1, 0]\n",
      "[9, 8, 7, 6, 5, 4, 3, 2, 1, 0]\n"
     ]
    }
   ],
   "source": [
    "# List is a mutable sequence of objects (like a string)\n",
    "# List is a sequence of objects and is implemented as a dynamic array\n",
    "# List functions (built-in) \n",
    "# List can be created with brackets or the list() function\n",
    "print(list(range(10))) # [0, 1, 2, 3, 4, 5, 6, 7, 8, 9]\n",
    "print(list(range(5, 10))) # [5, 6, 7, 8, 9]\n",
    "print(list(range(5, 10, 2))) # [5, 7, 9]\n",
    "print(list(range(10, 5, -2))) # [10, 8, 6]\n",
    "\n",
    "# List can be accessed by index (starting from 0) \n",
    "lst = [0, 1, 2, 3, 4, 5, 6, 7, 8, 9]\n",
    "print(lst[0]) # 0 (first element)\n",
    "print(lst[-1]) # 9 (last element)\n",
    "print(lst.index(3)) # 3 (index of 3)\n",
    "print(lst.count(3)) # 1 (count of 3)\n",
    "\n",
    "# List can be modified with the append(), insert(), remove(), pop(), clear(), and reverse() methods\n",
    "lst.append(10) # [0, 1, 2, 3, 4, 5, 6, 7, 8, 9, 10]\n",
    "print(lst)\n",
    "lst.insert(2, 'inserted') # [0, 1, 'inserted', 2, 3, 4, 5, 6, 7, 8, 9, 10]\n",
    "print(lst)\n",
    "lst.remove(3) # [0, 1, 'inserted', 2, 4, 5, 6, 7, 8, 9, 10]\n",
    "print(lst)\n",
    "lst.pop() # [0, 1, 'inserted', 2, 4, 5, 6, 7, 8, 9]\n",
    "print(lst)\n",
    "lst.clear() # []\n",
    "print(lst)\n",
    "\n",
    "lst = [0, 1, 2, 3, 4, 5, 6, 7, 8, 9]\n",
    "lst.reverse() # [9, 8, 7, 6, 5, 4, 3, 2, 1, 0]\n",
    "print(lst)\n",
    "\n",
    "# List can be sliced with the [start:end:step] notation\n",
    "lst = [0, 1, 2, 3, 4, 5, 6, 7, 8, 9]\n",
    "print(lst[1:3]) # [1, 2] (slice from 1 to 3)\n",
    "print(lst[1:]) # [1, 2, 3, 4, 5, 6, 7, 8, 9] (slice from 1 to end)\n",
    "print(lst[:3]) # [0, 1, 2] (slice from start to 3)\n",
    "print(lst[::2]) # [0, 2, 4, 6, 8] (slice from start to end with step 2)\n",
    "print(lst[::-1]) # [9, 8, 7, 6, 5, 4, 3, 2, 1, 0] (slice from start to end with step -1)\n",
    "print(lst[::-2]) # [9, 7, 5, 3, 1] (slice from start to end with step -2)\n",
    "\n",
    "# List can be iterated over with the for loop\n",
    "for i in lst:\n",
    "    print(i, end=\" \") # 0 1 2 3 4 5 6 7 8 9\n",
    "print()\n",
    "\n",
    "print([i for i in lst]) # [0, 1, 2, 3, 4, 5, 6, 7, 8, 9] (list comprehension)\n",
    "\n",
    "# List can be concatenated with the + operator and extend function\n",
    "print(lst + [10, 11, 12]) # [0, 1, 2, 3, 4, 5, 6, 7, 8, 9, 10, 11, 12]\n",
    "lst.extend([13, 14, 15]) # [0, 1, 2, 3, 4, 5, 6, 7, 8, 9, 13, 14, 15]\n",
    "print(lst) # [0, 1, 2, 3, 4, 5, 6, 7, 8, 9, 13, 14, 15]\n",
    "\n",
    "# List can be compared with the == operator\n",
    "lst1 = [0, 1, 2, 3, 4, 5, 6, 7, 8, 9]\n",
    "print(lst1 == [0, 1, 2, 3, 4, 5, 6, 7, 8, 9]) # True\n",
    "\n",
    "# List can be sorted with the sort() method\n",
    "lst = [0, 2, 3, 4, 6, 8, 9, 5, 1, 7]\n",
    "lst.sort() # [0, 1, 2, 3, 4, 5, 6, 7, 8, 9]\n",
    "print(lst) # [0, 1, 2, 3, 4, 5, 6, 7, 8, 9]\n",
    "\n",
    "# List can be reversed with the reverse() method\n",
    "lst.reverse() # [9, 8, 7, 6, 5, 4, 3, 2, 1, 0]\n",
    "print(lst)\n",
    "\n",
    "# copy() function returns a shallow copy of the list\n",
    "lst2 = lst.copy()\n",
    "print(lst2) # [9, 8, 7, 6, 5, 4, 3, 2, 1, 0]"
   ]
  },
  {
   "cell_type": "code",
   "execution_count": 20,
   "metadata": {},
   "outputs": [
    {
     "name": "stdout",
     "output_type": "stream",
     "text": [
      "(0, 1, 2, 3, 4, 5, 6, 7, 8, 9)\n",
      "0\n",
      "9\n",
      "3\n",
      "1\n",
      "[(0, 1, 2, 3, 4, 5, 6, 7, 8, 9), (10, 11, 12, 13, 14, 15, 16, 17, 18, 19)]\n"
     ]
    },
    {
     "ename": "AttributeError",
     "evalue": "'tuple' object has no attribute 'append'",
     "output_type": "error",
     "traceback": [
      "\u001b[1;31m---------------------------------------------------------------------------\u001b[0m",
      "\u001b[1;31mAttributeError\u001b[0m                            Traceback (most recent call last)",
      "\u001b[1;32mc:\\Users\\anish\\Desktop\\coding\\Jupyter Notebook\\misc.ipynb Cell 4\u001b[0m in \u001b[0;36m<cell line: 17>\u001b[1;34m()\u001b[0m\n\u001b[0;32m     <a href='vscode-notebook-cell:/c%3A/Users/anish/Desktop/coding/Jupyter%20Notebook/misc.ipynb#ch0000004?line=13'>14</a>\u001b[0m \u001b[39mprint\u001b[39m(Tuples) \u001b[39m# [(0, 1, 2, 3, 4, 5, 6, 7, 8, 9), (10, 11, 12, 13, 14, 15, 16, 17, 18, 19)]\u001b[39;00m\n\u001b[0;32m     <a href='vscode-notebook-cell:/c%3A/Users/anish/Desktop/coding/Jupyter%20Notebook/misc.ipynb#ch0000004?line=15'>16</a>\u001b[0m \u001b[39m# Tuple cannot be modified with the append(), insert(), remove(), pop(), clear(), or reverse() methods\u001b[39;00m\n\u001b[1;32m---> <a href='vscode-notebook-cell:/c%3A/Users/anish/Desktop/coding/Jupyter%20Notebook/misc.ipynb#ch0000004?line=16'>17</a>\u001b[0m tpl\u001b[39m.\u001b[39;49mappend(\u001b[39m10\u001b[39m)\n",
      "\u001b[1;31mAttributeError\u001b[0m: 'tuple' object has no attribute 'append'"
     ]
    }
   ],
   "source": [
    "# Tuple is a immutable sequence of objects (like a string)\n",
    "# Tuple can be created with parentheses or the tuple() function\n",
    "print(tuple(range(10))) # (0, 1, 2, 3, 4, 5, 6, 7, 8, 9)\n",
    "\n",
    "# Tuple can be accessed by index (starting from 0)\n",
    "tpl = (0, 1, 2, 3, 4, 5, 6, 7, 8, 9)\n",
    "print(tpl[0]) # 0 (first element)\n",
    "print(tpl[-1]) # 9 (last element) (negative indexing)\n",
    "print(tpl.index(3)) # 3 (index of 3)\n",
    "print(tpl.count(3)) # 1 (count of 3)\n",
    "\n",
    "# Tuples can be stored in a list\n",
    "Tuples = [(0, 1, 2, 3, 4, 5, 6, 7, 8, 9), (10, 11, 12, 13, 14, 15, 16, 17, 18, 19)]\n",
    "print(Tuples) # [(0, 1, 2, 3, 4, 5, 6, 7, 8, 9), (10, 11, 12, 13, 14, 15, 16, 17, 18, 19)]\n",
    "\n",
    "# Tuple cannot be modified with the append(), insert(), remove(), pop(), clear(), or reverse() methods\n",
    "tpl.append(10) # TypeError: 'tuple' object does not support item assignment\n"
   ]
  },
  {
   "cell_type": "code",
   "execution_count": 4,
   "metadata": {},
   "outputs": [
    {
     "name": "stdout",
     "output_type": "stream",
     "text": [
      "{0, 1, 2, 3, 4, 5, 6, 7, 8, 9}\n",
      "0 1 2 3 4 5 6 7 8 9 \n",
      "{0, 1, 2, 3, 4, 5, 6, 7, 8, 9, 10}\n",
      "{0, 1, 2, 3, 4, 5, 6, 7, 8, 9}\n",
      "set()\n",
      "True\n",
      "{0, 1, 2, 3, 4, 5, 6, 7, 8, 9}\n",
      "True\n"
     ]
    }
   ],
   "source": [
    "# Sets are mutable unordered collection of unique objects\n",
    "# Sets are used to store multiple items in a single variable.\n",
    "# Set can be created with curly brackets or the set() function\n",
    "set1 = set(range(10)) # {0, 1, 2, 3, 4, 5, 6, 7, 8, 9}\n",
    "print(set1) # {0, 1, 2, 3, 4, 5, 6, 7, 8, 9}\n",
    "\n",
    "# Set cannot be accessed by index cause it is unordered\n",
    "# For the same reason as mentioned above as lists, sets cannot be sliced\n",
    "# Sets can be iterated over with the for loop\n",
    "for i in set1:\n",
    "    print(i, end=\" \") # 0 1 2 3 4 5 6 7 8 9\n",
    "print()\n",
    "\n",
    "# Set can be modified with the add(), remove(), and clear() methods\n",
    "set1.add(10) # {0, 1, 2, 3, 4, 5, 6, 7, 8, 9, 10}\n",
    "print(set1)\n",
    "set1.remove(10) # {0, 1, 2, 3, 4, 5, 6, 7, 8, 9}\n",
    "print(set1)\n",
    "set1.clear() # set()\n",
    "print(set1)\n",
    "\n",
    "# Set can be compared with the == operator\n",
    "set1 = set(range(10))\n",
    "set2 = set(range(10))\n",
    "print(set1 == set2) # True\n",
    "\n",
    "# Set can be created from a list with the set() function\n",
    "set1 = set([0, 1, 2, 3, 4, 5, 6, 7, 8, 9])\n",
    "print(set1) # {0, 1, 2, 3, 4, 5, 6, 7, 8, 9}\n",
    "\n",
    "# Set can be created from a list with the set() function\n",
    "set1 = set([0, 1, 2, 3, 4, 5, 6, 7, 8, 9])\n",
    "set2 = set(list(range(10)))\n",
    "print(set1 == set2) # True\n",
    "\n"
   ]
  },
  {
   "cell_type": "code",
   "execution_count": 14,
   "metadata": {},
   "outputs": [
    {
     "name": "stdout",
     "output_type": "stream",
     "text": [
      "[0, 1, 2, 3, 4, 5, 6, 7, 8, 9]\n"
     ]
    }
   ],
   "source": [
    "# set = set(range(10))\n",
    "# print(set) # {0, 1, 2, 3, 4, 5, 6, 7, 8, 9}\n",
    "# del set1\n",
    "# set1 = set(range(10))\n",
    "# print(set1) # {0, 1, 2, 3, 4, 5, 6, 7, 8, 9}\n",
    "\n",
    "# del list\n",
    "# list = list(range(10))\n",
    "# print(list) # [0, 1, 2, 3, 4, 5, 6, 7, 8, 9]\n"
   ]
  },
  {
   "cell_type": "code",
   "execution_count": 7,
   "metadata": {},
   "outputs": [
    {
     "name": "stdout",
     "output_type": "stream",
     "text": [
      "{'a': 1, 'b': 2, 'c': 3}\n",
      "1\n",
      "a 1\n",
      "b 2\n",
      "c 3\n",
      "\n",
      "{'a': 1, 'b': 2, 'c': 3, 'd': 4}\n",
      "{'a': 1, 'b': 2, 'c': 3, 'd': 4}\n",
      "[('a', 1), ('b', 2), ('c', 3)]\n",
      "[('a', 1), ('b', 2), ('c', 3)]\n",
      "[('a', 1), ('b', 2), ('c', 3)]\n",
      "[('c', 3), ('b', 2), ('a', 1)]\n",
      "[('c', 3), ('b', 2), ('a', 1)]\n",
      "{'a': 1, 'b': 2, 'c': 3}\n",
      "{}\n"
     ]
    }
   ],
   "source": [
    "# Dictionary is a mutable mapping of keys to values\n",
    "# Dictionary can be created with curly brackets or the dict() function\n",
    "dic = dict(a=1, b=2, c=3)\n",
    "print(dic) # {'a': 1, 'b': 2, 'c': 3}\n",
    "\n",
    "# Dictionary can be accessed by key\n",
    "print(dic['a']) # 1\n",
    "\n",
    "# Dictionary can be iterated over with the for loop\n",
    "for key, value in dic.items():\n",
    "    print(key, value) # a 1 b 2 c 3\n",
    "print()\n",
    "\n",
    "# Dictionary can be modified with the setdefault() method\n",
    "dic.setdefault('d', 4) # {'a': 1, 'b': 2, 'c': 3, 'd': 4}\n",
    "print(dic)\n",
    "dic.setdefault('a', 10) # {'a': 1, 'b': 2, 'c': 3, 'd': 4}\n",
    "print(dic)\n",
    "\n",
    "# Dictionary can be sorted by key with the sorted() function\n",
    "dic = dict(a=1, b=2, c=3)\n",
    "print(sorted(dic.items())) # [('a', 1), ('b', 2), ('c', 3)]\n",
    "print(sorted(dic.items(), key=lambda x: x[1])) # [('c', 3), ('b', 2), ('a', 1)]\n",
    "print(sorted(dic.items(), key=lambda x: x[0])) # [('a', 1), ('b', 2), ('c', 3)]\n",
    "print(sorted(dic.items(), key=lambda x: x[1], reverse=True)) # [('c', 3), ('b', 2), ('a', 1)]\n",
    "print(sorted(dic.items(), key=lambda x: x[0], reverse=True)) # [('c', 3), ('b', 2), ('a', 1)]\n",
    "\n",
    "# Dictionary can be copied with the copy() function\n",
    "dic2 = dic.copy()\n",
    "print(dic2) # {'a': 1, 'b': 2, 'c': 3, 'd': 4}\n",
    "\n",
    "# Dictionary can be cleared with the clear() method\n",
    "dic.clear() # {}\n",
    "print(dic)\n",
    "\n",
    "# Dictionary can be deleted with the del keyword\n",
    "del dic\n",
    "# print(dic) # NameError: name 'dic' is not defined\n"
   ]
  },
  {
   "cell_type": "code",
   "execution_count": 8,
   "metadata": {},
   "outputs": [
    {
     "name": "stdout",
     "output_type": "stream",
     "text": [
      "3\n"
     ]
    }
   ],
   "source": [
    "# Function is a reusable block of code that can be called by name\n",
    "# Function can be created with the def keyword\n",
    "def add(a, b):\n",
    "    return a + b\n",
    "print(add(1, 2)) # 3\n",
    "\n",
    "#"
   ]
  },
  {
   "cell_type": "code",
   "execution_count": 1,
   "metadata": {},
   "outputs": [
    {
     "name": "stdout",
     "output_type": "stream",
     "text": [
      "3\n",
      "2\n",
      "1\n"
     ]
    }
   ],
   "source": [
    "# Linked List is a linear data structure that consists of a group of nodes\n",
    "# Each node contains a data field and a pointer to the next node\n",
    "class Node:\n",
    "    def __init__(self, data):\n",
    "        self.data = data\n",
    "        self.next = None\n",
    "class LinkedList:\n",
    "    def __init__(self):\n",
    "        self.head = None\n",
    "    def add(self, data):\n",
    "        new_node = Node(data)\n",
    "        new_node.next = self.head\n",
    "        self.head = new_node\n",
    "    def print_list(self):\n",
    "        temp = self.head\n",
    "        while temp:\n",
    "            print(temp.data)\n",
    "            temp = temp.next\n",
    "list = LinkedList()\n",
    "list.add(1)\n",
    "list.add(2)\n",
    "list.add(3)\n",
    "list.print_list()\n",
    "# 1 2 3\n"
   ]
  }
 ],
 "metadata": {
  "kernelspec": {
   "display_name": "Python 3.10.5 64-bit (windows store)",
   "language": "python",
   "name": "python3"
  },
  "language_info": {
   "codemirror_mode": {
    "name": "ipython",
    "version": 3
   },
   "file_extension": ".py",
   "mimetype": "text/x-python",
   "name": "python",
   "nbconvert_exporter": "python",
   "pygments_lexer": "ipython3",
   "version": "3.10.5"
  },
  "orig_nbformat": 4,
  "vscode": {
   "interpreter": {
    "hash": "b03495272f6c940867e514e380a7106b359791d3d8bca9ac2bc2673b36132bb8"
   }
  }
 },
 "nbformat": 4,
 "nbformat_minor": 2
}
